{
 "cells": [
  {
   "cell_type": "markdown",
   "id": "b1ea060a47a6211d",
   "metadata": {},
   "source": [
    "# LAB #2: Numpy\n",
    "\n",
    "## Introduction\n",
    "In this laboratory, you will perform some operation with NumPy arrays in such a way to build your first Machine Learning model. \n",
    "In particular, you will build a NumPy-based version of the K-Nearest Neighbors algorithm (a.k.a. KNN).\n",
    "\n",
    "## 0 Preliminary steps\n",
    "### 0.1 NumPy\n",
    "Make sure you have the NumPy library installed, its use is strongly recommended for this laboratory.\n",
    "NumPy is the fundamental package for scientific computing with Python. You can read more about it on\n",
    "the official documentation.\n"
   ]
  },
  {
   "cell_type": "code",
   "execution_count": 1,
   "id": "9246699975edf562",
   "metadata": {},
   "outputs": [
    {
     "name": "stdout",
     "output_type": "stream",
     "text": [
      "Requirement already satisfied: numpy in /opt/conda/lib/python3.7/site-packages (1.21.6)\n"
     ]
    }
   ],
   "source": [
    "! pip install numpy"
   ]
  },
  {
   "cell_type": "markdown",
   "id": "ad497ed1d0092203",
   "metadata": {},
   "source": [
    "### 0.2 Iris dataset download \n",
    "For this lab, you will need two of the datasets you have already met: Iris and MNIST. Please refer to\n",
    "Laboratory 1 for a complete description of the datasets.\n",
    "Iris. You can download it from:\n",
    "https://archive.ics.uci.edu/ml/machine-learning-databases/iris/iris.data"
   ]
  },
  {
   "cell_type": "code",
   "execution_count": 2,
   "id": "a838a5ed77a24051",
   "metadata": {},
   "outputs": [
    {
     "name": "stdout",
     "output_type": "stream",
     "text": [
      "Collecting wget\n",
      "  Downloading wget-3.2.zip (10 kB)\n",
      "  Preparing metadata (setup.py) ... \u001b[?25ldone\n",
      "\u001b[?25hBuilding wheels for collected packages: wget\n",
      "  Building wheel for wget (setup.py) ... \u001b[?25ldone\n",
      "\u001b[?25h  Created wheel for wget: filename=wget-3.2-py3-none-any.whl size=9675 sha256=7b798ef08d1f3fd3389d9ed57ccb2f10f3c807f8ee3c9997adb328aa19bc280c\n",
      "  Stored in directory: /home/students/s344024/.cache/pip/wheels/a1/b6/7c/0e63e34eb06634181c63adacca38b79ff8f35c37e3c13e3c02\n",
      "Successfully built wget\n",
      "Installing collected packages: wget\n",
      "Successfully installed wget-3.2\n"
     ]
    },
    {
     "data": {
      "text/plain": [
       "'iris (1).csv'"
      ]
     },
     "execution_count": 2,
     "metadata": {},
     "output_type": "execute_result"
    }
   ],
   "source": [
    "# linux users\n",
    "# !wget https://archive.ics.uci.edu/ml/machine-learning-databases/iris/iris.data -O iris.csv\n",
    "# windows users\n",
    "! pip install wget\n",
    "import wget\n",
    "wget.download(\"https://archive.ics.uci.edu/ml/machine-learning-databases/iris/iris.data\", \"iris.csv\")"
   ]
  },
  {
   "cell_type": "markdown",
   "id": "ef169d9060adb9a7",
   "metadata": {},
   "source": [
    "## 1 Exercises \n",
    "Note that exercises marked with a ($\\star$) are optional, you should focus on completing the other ones first."
   ]
  },
  {
   "cell_type": "markdown",
   "id": "a820274dc6b6f678",
   "metadata": {},
   "source": [
    "## 1.1 Iris Analysis with Numpy\n",
    "As you might remember from Lab. 1, the Iris dataset collects the measurements of different Iris flowers,\n",
    "and each data point is characterized by 4 **features** (sepal length, sepal width, petal length, petal width) and is associated to 1 **label** (i.e. an Iris species - Setosa, Versicolor, or Virginica) which in this case is the last element of the row (last column of the csv file). "
   ]
  },
  {
   "cell_type": "markdown",
   "id": "46864c46cf9f9387",
   "metadata": {},
   "source": [
    "1. Load the Iris dataset. You can use the `csv` library that we saw in the last laboratory or read it with the standard `open(filename, strategy)`. \n",
    "In the second case remember to split correctly the different fields, and avoid new line characters. In any case check for empty lines. \n",
    "This time remember to store the 4 features in a numpy array `x` of shape (n_sample, 4) and the labels in a different array `y` of shape (n_sample,) converting the 3 different species to a corresponding numerical value. E.g.,\n",
    "      - Iris-setosa: 0\n",
    "      - Iris-versicolor: 1\n",
    "      - Iris-virginica: 2\n",
    "\n",
    "In order to check you have correctly loaded the data, print the shape of the two arrays: you should find\n",
    "(150, 4) for `x` and (150,) for `y`."
   ]
  },
  {
   "cell_type": "code",
   "execution_count": 53,
   "id": "a977ccc88ef2ca39",
   "metadata": {},
   "outputs": [
    {
     "name": "stdout",
     "output_type": "stream",
     "text": [
      "(150, 4)\n"
     ]
    },
    {
     "data": {
      "text/plain": [
       "(150,)"
      ]
     },
     "execution_count": 53,
     "metadata": {},
     "output_type": "execute_result"
    }
   ],
   "source": [
    "import pandas as pd\n",
    "import numpy as np\n",
    "\n",
    "\n",
    "dataset=pd.read_csv(\"../iris_new.csv\")\n",
    "\n",
    "dataset_x=dataset.iloc[:,: -1]\n",
    "dataset_y=dataset.iloc[:,4]\n",
    "\n",
    "array_x=np.array(dataset_x)\n",
    "array_y=np.array(dataset_y)\n",
    "\n",
    "array_y[array_y==\"Iris-setosa\"]=0\n",
    "array_y[array_y==\"Iris-versicolor\"]=1\n",
    "array_y[array_y==\"Iris-virginica\"]=2\n",
    "\n",
    "print(array_x.shape)\n",
    "array_y.shape\n",
    "\n"
   ]
  },
  {
   "cell_type": "markdown",
   "id": "5050d162966956ce",
   "metadata": {},
   "source": [
    "2. Compute again the mean and standard deviation for each class by means of the numpy functions"
   ]
  },
  {
   "cell_type": "code",
   "execution_count": 50,
   "id": "33bfaed602d4bc3e",
   "metadata": {},
   "outputs": [
    {
     "data": {
      "text/html": [
       "<div>\n",
       "<style scoped>\n",
       "    .dataframe tbody tr th:only-of-type {\n",
       "        vertical-align: middle;\n",
       "    }\n",
       "\n",
       "    .dataframe tbody tr th {\n",
       "        vertical-align: top;\n",
       "    }\n",
       "\n",
       "    .dataframe thead th {\n",
       "        text-align: right;\n",
       "    }\n",
       "</style>\n",
       "<table border=\"1\" class=\"dataframe\">\n",
       "  <thead>\n",
       "    <tr style=\"text-align: right;\">\n",
       "      <th></th>\n",
       "      <th>iris species</th>\n",
       "      <th>sepal length</th>\n",
       "      <th>sepal width</th>\n",
       "      <th>petal lenght</th>\n",
       "      <th>petal width</th>\n",
       "    </tr>\n",
       "  </thead>\n",
       "  <tbody>\n",
       "    <tr>\n",
       "      <th>0</th>\n",
       "      <td>Iris-setosa</td>\n",
       "      <td>5.006</td>\n",
       "      <td>3.418</td>\n",
       "      <td>1.464</td>\n",
       "      <td>0.244</td>\n",
       "    </tr>\n",
       "    <tr>\n",
       "      <th>1</th>\n",
       "      <td>Iris-versicolor</td>\n",
       "      <td>5.936</td>\n",
       "      <td>2.770</td>\n",
       "      <td>4.260</td>\n",
       "      <td>1.326</td>\n",
       "    </tr>\n",
       "    <tr>\n",
       "      <th>2</th>\n",
       "      <td>Iris-virginica</td>\n",
       "      <td>6.588</td>\n",
       "      <td>2.974</td>\n",
       "      <td>5.552</td>\n",
       "      <td>2.026</td>\n",
       "    </tr>\n",
       "  </tbody>\n",
       "</table>\n",
       "</div>"
      ],
      "text/plain": [
       "      iris species  sepal length  sepal width  petal lenght  petal width\n",
       "0      Iris-setosa         5.006        3.418         1.464        0.244\n",
       "1  Iris-versicolor         5.936        2.770         4.260        1.326\n",
       "2   Iris-virginica         6.588        2.974         5.552        2.026"
      ]
     },
     "execution_count": 50,
     "metadata": {},
     "output_type": "execute_result"
    }
   ],
   "source": [
    "grouped_mean = dataset.groupby('iris species').mean().reset_index()\n",
    "grouped_mean\n"
   ]
  },
  {
   "cell_type": "code",
   "execution_count": 49,
   "id": "33ff657a-61fb-4441-9ca3-3caff8ef8fdb",
   "metadata": {},
   "outputs": [
    {
     "data": {
      "text/html": [
       "<div>\n",
       "<style scoped>\n",
       "    .dataframe tbody tr th:only-of-type {\n",
       "        vertical-align: middle;\n",
       "    }\n",
       "\n",
       "    .dataframe tbody tr th {\n",
       "        vertical-align: top;\n",
       "    }\n",
       "\n",
       "    .dataframe thead th {\n",
       "        text-align: right;\n",
       "    }\n",
       "</style>\n",
       "<table border=\"1\" class=\"dataframe\">\n",
       "  <thead>\n",
       "    <tr style=\"text-align: right;\">\n",
       "      <th></th>\n",
       "      <th>iris species</th>\n",
       "      <th>sepal length</th>\n",
       "      <th>sepal width</th>\n",
       "      <th>petal lenght</th>\n",
       "      <th>petal width</th>\n",
       "    </tr>\n",
       "  </thead>\n",
       "  <tbody>\n",
       "    <tr>\n",
       "      <th>0</th>\n",
       "      <td>Iris-setosa</td>\n",
       "      <td>0.352490</td>\n",
       "      <td>0.381024</td>\n",
       "      <td>0.173511</td>\n",
       "      <td>0.107210</td>\n",
       "    </tr>\n",
       "    <tr>\n",
       "      <th>1</th>\n",
       "      <td>Iris-versicolor</td>\n",
       "      <td>0.516171</td>\n",
       "      <td>0.313798</td>\n",
       "      <td>0.469911</td>\n",
       "      <td>0.197753</td>\n",
       "    </tr>\n",
       "    <tr>\n",
       "      <th>2</th>\n",
       "      <td>Iris-virginica</td>\n",
       "      <td>0.635880</td>\n",
       "      <td>0.322497</td>\n",
       "      <td>0.551895</td>\n",
       "      <td>0.274650</td>\n",
       "    </tr>\n",
       "  </tbody>\n",
       "</table>\n",
       "</div>"
      ],
      "text/plain": [
       "      iris species  sepal length  sepal width  petal lenght  petal width\n",
       "0      Iris-setosa      0.352490     0.381024      0.173511     0.107210\n",
       "1  Iris-versicolor      0.516171     0.313798      0.469911     0.197753\n",
       "2   Iris-virginica      0.635880     0.322497      0.551895     0.274650"
      ]
     },
     "execution_count": 49,
     "metadata": {},
     "output_type": "execute_result"
    }
   ],
   "source": [
    "grouped_std = dataset.groupby('iris species').std().reset_index()\n",
    "grouped_std"
   ]
  },
  {
   "cell_type": "markdown",
   "id": "1f84beb708797ba9",
   "metadata": {},
   "source": [
    "3. Compute the distances among two samples (e.g., the $36^{th}$ and the $81^{th}$, the $13^{th}$ and the $15^{th}$) \n",
    "by means of the `np.linalg.norm(a-b)` function which computes the norm of `a-b`, i.e., the euclidean distance between the feature of the `a` and of the `b` samples. \n",
    "  - Can you guess if the two couples of samples belong to the same species?\n",
    "  - From the mean and standard deviations computed before can you guess which species? "
   ]
  },
  {
   "cell_type": "code",
   "execution_count": 43,
   "id": "4a47fb722be07fb4",
   "metadata": {},
   "outputs": [
    {
     "name": "stdout",
     "output_type": "stream",
     "text": [
      "2.908607914449797\n",
      "1.4317821063276353\n"
     ]
    }
   ],
   "source": [
    "vector36 = array_x[35]\n",
    "vector81 = array_x[80]\n",
    "vector13= array_x[12]\n",
    "vector15 = array_x[14]\n",
    "\n",
    "distance1 = np.linalg.norm(vector36 - vector81)\n",
    "distance2 = np.linalg.norm(vector13 - vector15)\n",
    "\n",
    "print(distance1)\n",
    "print(distance2)"
   ]
  },
  {
   "cell_type": "markdown",
   "id": "9dc024bce0c0dd04",
   "metadata": {
    "jupyter": {
     "outputs_hidden": false
    }
   },
   "source": [
    "TODO: write your comment here"
   ]
  },
  {
   "cell_type": "markdown",
   "id": "2b781fa1-e61a-4aaf-b3c1-d40f2e5e2553",
   "metadata": {
    "jupyter": {
     "outputs_hidden": false
    }
   },
   "source": [
    "Based on the features of the tuples inside the dataset, by definition we can say that nearest tuples will have a lower value of euclidean distance."
   ]
  },
  {
   "cell_type": "markdown",
   "id": "f3fa448bd7bc9d94",
   "metadata": {
    "jupyter": {
     "outputs_hidden": false
    }
   },
   "source": [
    "TODO: write your comment here"
   ]
  },
  {
   "cell_type": "code",
   "execution_count": 45,
   "id": "4732570d-d646-4131-b608-acb87e96b261",
   "metadata": {},
   "outputs": [
    {
     "name": "stdout",
     "output_type": "stream",
     "text": [
      "[5.  3.2 1.2 0.2]\n",
      "[5.5 2.4 3.8 1.1]\n",
      "[4.8 3.  1.4 0.1]\n",
      "[5.8 4.  1.2 0.2]\n"
     ]
    }
   ],
   "source": [
    "print(vector36)\n",
    "print(vector81)\n",
    "print(vector13)\n",
    "print(vector15)"
   ]
  },
  {
   "cell_type": "markdown",
   "id": "e331939c-1fa6-44bd-b390-34127cb7ad90",
   "metadata": {},
   "source": [
    "36 = Iris setosa \n",
    "\n",
    "81 = Iris versicolor\n",
    "\n",
    "13 = Iris setosa\n",
    "\n",
    "15 = Iris setosa"
   ]
  },
  {
   "cell_type": "markdown",
   "id": "dcceaccd4a1a7526",
   "metadata": {
    "jupyter": {
     "outputs_hidden": false
    }
   },
   "source": [
    "4. Find the k nearest neighbors of a sample in the dataset.\n",
    "    - Define a function `k_nearest_neighbors(x, x_set, k)` that takes as input a sample `x` and a set of sample (i.e., a matrix) `x_set` and returns the indices of the `k` nearest neighbors of `x` in `x_set`.\n",
    "        - Reuse the `euclidean_distance` function that you defined before to do so. \n",
    "        - Remember that the `x_set` is a matrix of shape ($N_{samples}, N_{features}$), so you have to compute the distance between `x` and each row of `x_set`. \n",
    "        - In order to find the indices of the `k` nearest neighbors, you can use the `argsort` function that returns the indices that would sort an array\n",
    "    - Apply the function to the $36^{th}$ sample of the dataset with $k=5$.\n",
    "    - Print the indices of the $5$ nearest neighbors.\n",
    "    - Print the labels of the $5$ nearest neighbors. Can you guess the label of the $36^{th}$ sample?"
   ]
  },
  {
   "cell_type": "code",
   "execution_count": 91,
   "id": "b93f94748b3841e3",
   "metadata": {
    "collapsed": false,
    "jupyter": {
     "outputs_hidden": false
    }
   },
   "outputs": [
    {
     "name": "stdout",
     "output_type": "stream",
     "text": [
      "[49, 1, 2, 40, 28]\n",
      "Iris-setosa\n",
      "Iris-setosa\n",
      "Iris-setosa\n",
      "Iris-setosa\n",
      "Iris-setosa\n"
     ]
    }
   ],
   "source": [
    "def k_nearest_neighbors(x, x_set, k):\n",
    "    dictionary ={}\n",
    "    for index, element in x_set.iterrows():\n",
    "        distance = np.linalg.norm(x - element)\n",
    "        dictionary[index]=distance\n",
    "    \n",
    "    valori = sorted(dictionary.values())[1:k+1:]\n",
    "    indici = []\n",
    "    \n",
    "    for value in valori:\n",
    "        for element in dictionary:\n",
    "            if value == dictionary[element]:\n",
    "               indici.append(element)\n",
    "    return indici\n",
    "        \n",
    "indici = k_nearest_neighbors(vector36, dataset_x, 5)\n",
    "print(indici)\n",
    "for element in indici:\n",
    "    print(dataset_y[element])"
   ]
  },
  {
   "cell_type": "markdown",
   "id": "4de2b1c8798fc98e",
   "metadata": {},
   "source": [
    "TODO: write your comment here"
   ]
  },
  {
   "cell_type": "markdown",
   "id": "9dd1f94b256663e8",
   "metadata": {
    "tags": []
   },
   "source": [
    "## 1.2 KNN design and implementation\n",
    "In this exercise, you will implement your own version of the K-Nearest Neighbors (KNN) algorithm, and you will use it to assign an\n",
    "Iris species (i.e. a label) to flowers whose species is unknown.\n",
    "\n",
    "The KNN algorithm is straightforward. Suppose that some measurements (e.g., the iris features) and their\n",
    "relative label (e.g., the iris species) of a set of samples are known in advance. \n",
    "\n",
    "<img src=\"https://mlarchive.com/wp-content/uploads/2022/09/img2.png\" width=\"800\">\n",
    "\n",
    "Then, whenever we want to label a new sample, we look at the K most similar points (a.k.a. neighbors) and assign a label accordingly. \n",
    "\n",
    "<img src=\"https://mlarchive.com/wp-content/uploads/2022/09/img1-1.png\" width=\"800\">\n",
    "\n",
    "\n",
    "The simplest solution is using a majority voting scheme: if the majority of the neighbors votes for a label, we will go for it. \n",
    "This approach is naive only at first sight: the local similarity assumed by KNN happens to be roughly true, as you have seen in the previous exercises.\n",
    "Even though this reasoning does not generalize well, the KNN provides a valid baseline for your tasks.\n"
   ]
  },
  {
   "cell_type": "markdown",
   "id": "5d185976071690ce",
   "metadata": {},
   "source": [
    "1. Let’s identify a portion of our data for which we will try to guess the species. Randomly select 20%\n",
    "of the records and store the first four columns (i.e. the features representing each flower) into a\n",
    "two-dimensional numpy array of shape ($N_{test}, 4$), you can call it `X_test` and $N_{test}$ is the 20% of the total number of samples.\n",
    "For the same records, store the test label column (i.e. the one with the species values) into another array, namely `y_test`. \n",
    "This is the data that will be used to test the accuracy of your KNN implementation and its correct functioning (i.e. the testing data)."
   ]
  },
  {
   "cell_type": "code",
   "execution_count": 105,
   "id": "a642f03b563650e8",
   "metadata": {},
   "outputs": [
    {
     "ename": "KeyError",
     "evalue": "\"None of [Int64Index([114,  62,  33, 107,   7, 100,  40,  86,  76,  71, 134,  51,  73,\\n             54,  63,  37,  78,  90,  45,  16, 121,  66,  24,   8, 126,  22,\\n             44,  97,  93,  26],\\n           dtype='int64')] are in the [columns]\"",
     "output_type": "error",
     "traceback": [
      "\u001b[0;31m---------------------------------------------------------------------------\u001b[0m",
      "\u001b[0;31mKeyError\u001b[0m                                  Traceback (most recent call last)",
      "\u001b[0;32m/tmp/ipykernel_107/4217286057.py\u001b[0m in \u001b[0;36m<module>\u001b[0;34m\u001b[0m\n\u001b[1;32m      7\u001b[0m \u001b[0mtest_idx\u001b[0m \u001b[0;34m=\u001b[0m \u001b[0mindices\u001b[0m\u001b[0;34m[\u001b[0m\u001b[0;34m:\u001b[0m\u001b[0mtest_len\u001b[0m\u001b[0;34m]\u001b[0m\u001b[0;34m\u001b[0m\u001b[0;34m\u001b[0m\u001b[0m\n\u001b[1;32m      8\u001b[0m \u001b[0;34m\u001b[0m\u001b[0m\n\u001b[0;32m----> 9\u001b[0;31m \u001b[0mx_test\u001b[0m \u001b[0;34m=\u001b[0m \u001b[0mdataset_x\u001b[0m\u001b[0;34m[\u001b[0m\u001b[0mtest_idx\u001b[0m\u001b[0;34m]\u001b[0m\u001b[0;34m\u001b[0m\u001b[0;34m\u001b[0m\u001b[0m\n\u001b[0m\u001b[1;32m     10\u001b[0m \u001b[0my_test\u001b[0m \u001b[0;34m=\u001b[0m \u001b[0mdataset_y\u001b[0m\u001b[0;34m[\u001b[0m\u001b[0mtest_idx\u001b[0m\u001b[0;34m]\u001b[0m\u001b[0;34m\u001b[0m\u001b[0;34m\u001b[0m\u001b[0m\n\u001b[1;32m     11\u001b[0m \u001b[0;34m\u001b[0m\u001b[0m\n",
      "\u001b[0;32m/opt/conda/lib/python3.7/site-packages/pandas/core/frame.py\u001b[0m in \u001b[0;36m__getitem__\u001b[0;34m(self, key)\u001b[0m\n\u001b[1;32m   3462\u001b[0m             \u001b[0;32mif\u001b[0m \u001b[0mis_iterator\u001b[0m\u001b[0;34m(\u001b[0m\u001b[0mkey\u001b[0m\u001b[0;34m)\u001b[0m\u001b[0;34m:\u001b[0m\u001b[0;34m\u001b[0m\u001b[0;34m\u001b[0m\u001b[0m\n\u001b[1;32m   3463\u001b[0m                 \u001b[0mkey\u001b[0m \u001b[0;34m=\u001b[0m \u001b[0mlist\u001b[0m\u001b[0;34m(\u001b[0m\u001b[0mkey\u001b[0m\u001b[0;34m)\u001b[0m\u001b[0;34m\u001b[0m\u001b[0;34m\u001b[0m\u001b[0m\n\u001b[0;32m-> 3464\u001b[0;31m             \u001b[0mindexer\u001b[0m \u001b[0;34m=\u001b[0m \u001b[0mself\u001b[0m\u001b[0;34m.\u001b[0m\u001b[0mloc\u001b[0m\u001b[0;34m.\u001b[0m\u001b[0m_get_listlike_indexer\u001b[0m\u001b[0;34m(\u001b[0m\u001b[0mkey\u001b[0m\u001b[0;34m,\u001b[0m \u001b[0maxis\u001b[0m\u001b[0;34m=\u001b[0m\u001b[0;36m1\u001b[0m\u001b[0;34m)\u001b[0m\u001b[0;34m[\u001b[0m\u001b[0;36m1\u001b[0m\u001b[0;34m]\u001b[0m\u001b[0;34m\u001b[0m\u001b[0;34m\u001b[0m\u001b[0m\n\u001b[0m\u001b[1;32m   3465\u001b[0m \u001b[0;34m\u001b[0m\u001b[0m\n\u001b[1;32m   3466\u001b[0m         \u001b[0;31m# take() does not accept boolean indexers\u001b[0m\u001b[0;34m\u001b[0m\u001b[0;34m\u001b[0m\u001b[0;34m\u001b[0m\u001b[0m\n",
      "\u001b[0;32m/opt/conda/lib/python3.7/site-packages/pandas/core/indexing.py\u001b[0m in \u001b[0;36m_get_listlike_indexer\u001b[0;34m(self, key, axis)\u001b[0m\n\u001b[1;32m   1312\u001b[0m             \u001b[0mkeyarr\u001b[0m\u001b[0;34m,\u001b[0m \u001b[0mindexer\u001b[0m\u001b[0;34m,\u001b[0m \u001b[0mnew_indexer\u001b[0m \u001b[0;34m=\u001b[0m \u001b[0max\u001b[0m\u001b[0;34m.\u001b[0m\u001b[0m_reindex_non_unique\u001b[0m\u001b[0;34m(\u001b[0m\u001b[0mkeyarr\u001b[0m\u001b[0;34m)\u001b[0m\u001b[0;34m\u001b[0m\u001b[0;34m\u001b[0m\u001b[0m\n\u001b[1;32m   1313\u001b[0m \u001b[0;34m\u001b[0m\u001b[0m\n\u001b[0;32m-> 1314\u001b[0;31m         \u001b[0mself\u001b[0m\u001b[0;34m.\u001b[0m\u001b[0m_validate_read_indexer\u001b[0m\u001b[0;34m(\u001b[0m\u001b[0mkeyarr\u001b[0m\u001b[0;34m,\u001b[0m \u001b[0mindexer\u001b[0m\u001b[0;34m,\u001b[0m \u001b[0maxis\u001b[0m\u001b[0;34m)\u001b[0m\u001b[0;34m\u001b[0m\u001b[0;34m\u001b[0m\u001b[0m\n\u001b[0m\u001b[1;32m   1315\u001b[0m \u001b[0;34m\u001b[0m\u001b[0m\n\u001b[1;32m   1316\u001b[0m         if needs_i8_conversion(ax.dtype) or isinstance(\n",
      "\u001b[0;32m/opt/conda/lib/python3.7/site-packages/pandas/core/indexing.py\u001b[0m in \u001b[0;36m_validate_read_indexer\u001b[0;34m(self, key, indexer, axis)\u001b[0m\n\u001b[1;32m   1372\u001b[0m                 \u001b[0;32mif\u001b[0m \u001b[0muse_interval_msg\u001b[0m\u001b[0;34m:\u001b[0m\u001b[0;34m\u001b[0m\u001b[0;34m\u001b[0m\u001b[0m\n\u001b[1;32m   1373\u001b[0m                     \u001b[0mkey\u001b[0m \u001b[0;34m=\u001b[0m \u001b[0mlist\u001b[0m\u001b[0;34m(\u001b[0m\u001b[0mkey\u001b[0m\u001b[0;34m)\u001b[0m\u001b[0;34m\u001b[0m\u001b[0;34m\u001b[0m\u001b[0m\n\u001b[0;32m-> 1374\u001b[0;31m                 \u001b[0;32mraise\u001b[0m \u001b[0mKeyError\u001b[0m\u001b[0;34m(\u001b[0m\u001b[0;34mf\"None of [{key}] are in the [{axis_name}]\"\u001b[0m\u001b[0;34m)\u001b[0m\u001b[0;34m\u001b[0m\u001b[0;34m\u001b[0m\u001b[0m\n\u001b[0m\u001b[1;32m   1375\u001b[0m \u001b[0;34m\u001b[0m\u001b[0m\n\u001b[1;32m   1376\u001b[0m             \u001b[0mnot_found\u001b[0m \u001b[0;34m=\u001b[0m \u001b[0mlist\u001b[0m\u001b[0;34m(\u001b[0m\u001b[0mensure_index\u001b[0m\u001b[0;34m(\u001b[0m\u001b[0mkey\u001b[0m\u001b[0;34m)\u001b[0m\u001b[0;34m[\u001b[0m\u001b[0mmissing_mask\u001b[0m\u001b[0;34m.\u001b[0m\u001b[0mnonzero\u001b[0m\u001b[0;34m(\u001b[0m\u001b[0;34m)\u001b[0m\u001b[0;34m[\u001b[0m\u001b[0;36m0\u001b[0m\u001b[0;34m]\u001b[0m\u001b[0;34m]\u001b[0m\u001b[0;34m.\u001b[0m\u001b[0munique\u001b[0m\u001b[0;34m(\u001b[0m\u001b[0;34m)\u001b[0m\u001b[0;34m)\u001b[0m\u001b[0;34m\u001b[0m\u001b[0;34m\u001b[0m\u001b[0m\n",
      "\u001b[0;31mKeyError\u001b[0m: \"None of [Int64Index([114,  62,  33, 107,   7, 100,  40,  86,  76,  71, 134,  51,  73,\\n             54,  63,  37,  78,  90,  45,  16, 121,  66,  24,   8, 126,  22,\\n             44,  97,  93,  26],\\n           dtype='int64')] are in the [columns]\""
     ]
    }
   ],
   "source": [
    "import numpy as np\n",
    "np.random.seed(0)\n",
    "\n",
    "indices = np.arange(150)\n",
    "np.random.shuffle(indices)\n",
    "test_len = 20*len(indices) // 100\n",
    "test_idx = indices[:test_len]\n",
    "\n",
    "x_test = dataset_x[test_idx]\n",
    "y_test = dataset_y[test_idx]\n",
    "\n",
    "print(\"Number of test samples:\", y_test.shape[0])"
   ]
  },
  {
   "cell_type": "markdown",
   "id": "192e5663358e8e82",
   "metadata": {},
   "source": [
    "2. Store the remaining 80% of the records in the same way. In this case, use the names X_train andy_train for the arrays.\n",
    "This is the data that your model will use as ground-truth knowledge (i.e. the training data, from which we extract the knowledge and that we will use for comparison).\n"
   ]
  },
  {
   "cell_type": "code",
   "execution_count": 102,
   "id": "b9f1639cc7fe3b53",
   "metadata": {},
   "outputs": [],
   "source": [
    "from sklearn.model_selection import train_test_split\n",
    "\n",
    "# Assuming you have your data in variables X and y\n",
    "X_train, X_test, y_train, y_test = train_test_split(dataset_x, dataset_y, test_size=0.2, random_state=42)"
   ]
  },
  {
   "cell_type": "markdown",
   "id": "dbbc62af2fef1d5c",
   "metadata": {},
   "source": [
    "3. Focus now on the KNN technique. \n",
    "From the next month, you will use the `scikit-learn` package. Many of its functionalities\n",
    "are exposed via an object-oriented interface. With this paradigm in mind, implement now the KNN\n",
    "algorithm and expose it as a Python class. The bare skeleton of your class should look like this (you\n",
    "are free to add other methods if you want to).\n",
    "\n",
    "```\n",
    "class KNearestNeighbors:\n",
    "    def __init__(self, k):\n",
    "        \"\"\"\n",
    "        Store the value of k in a attribute of the class and initialize other attributes.\n",
    "        :param k : int, number of neighbors to consider.\n",
    "        \"\"\"\n",
    "        pass # TODO: implement it!\n",
    "    def fit(self, X, y):\n",
    "        \"\"\"\n",
    "        Store the 'prior knowledge' of you model that will be used\n",
    "        to predict new labels.\n",
    "        :param X : input data points, ndarray, shape = (R,C).\n",
    "        :param y : input labels, ndarray, shape = (R,).\n",
    "        \"\"\"\n",
    "        pass # TODO: implement it!\n",
    "    \n",
    "    def predict(self, X):\n",
    "        \"\"\"Run the KNN classification on X.\n",
    "        :param X: input data points, ndarray, shape = (N,C).\n",
    "        :return: labels : ndarray, shape = (N,).\n",
    "        \"\"\"\n",
    "        pass # TODO: implement it!\n",
    "\n",
    "```\n",
    "\n",
    "\n",
    "Implement the `__init__` and `fit` methods first. \n",
    "- In the `__init__` method, you should store the value of `k` in a private attribute of the class.\n",
    "- In the `fit` method you should only store the training data in private attributes of the class."
   ]
  },
  {
   "cell_type": "code",
   "execution_count": 27,
   "id": "b5de6a78df7f8585",
   "metadata": {
    "ExecuteTime": {
     "end_time": "2024-10-10T12:53:39.426246Z",
     "start_time": "2024-10-10T12:53:39.420295Z"
    }
   },
   "outputs": [],
   "source": [
    "import numpy as np\n",
    "import pandas as pd\n",
    "\n",
    "class KNearestNeighbors:\n",
    "    \n",
    "    def __init__(self, k):\n",
    "        self.k = k\n",
    "    \n",
    "    def fit(self, X, y):\n",
    "        self.X_train = X\n",
    "        self.Y_train = y\n",
    "    \n",
    "    def most_frequent(self, List):\n",
    "        return max(set(List), key=List.count)\n",
    "    \n",
    "    def k_nearest_neighbors(self, x, x_set, k):\n",
    "        dictionary = {}\n",
    "        for index, element in x_set.iterrows():\n",
    "            dictionary[index] = np.linalg.norm(x - element)\n",
    "        valori = sorted(dictionary.values())[0:k]\n",
    "        indici = []\n",
    "        for value in valori:\n",
    "            for element in dictionary:\n",
    "                if value == dictionary[element]:\n",
    "                    indici.append(element)\n",
    "        return indici\n",
    "    \n",
    "    def predict(self, X):\n",
    "        prediction = {}\n",
    "        for index, element in X.iterrows():\n",
    "            indici = self.k_nearest_neighbors(element, self.X_train, self.k)\n",
    "            lista_classi = [self.Y_train[value] for value in indici]\n",
    "            prediction[index] = self.most_frequent(lista_classi)\n",
    "        return prediction\n",
    "\n"
   ]
  },
  {
   "cell_type": "code",
   "execution_count": null,
   "id": "b2d7a14f-1911-4c23-97ba-675e6e57a20e",
   "metadata": {},
   "outputs": [],
   "source": [
    "KNN = KNearestNeighbors(5)\n",
    "\n",
    "KNN.fit(X_train,y_train)\n",
    "\n",
    "istanze = pd.DataFrame()\n",
    "\n",
    "istanze = istanze.append(dataset_x.iloc[0])\n",
    "istanze = istanze.append(dataset_x.iloc[60])\n",
    "istanze = istanze.append(dataset_x.iloc[102])\n",
    "istanze = istanze.append(dataset_x.iloc[149])\n",
    "\n",
    "classi = KNN.predict(istanze)\n",
    "\n",
    "print(classi)"
   ]
  },
  {
   "cell_type": "markdown",
   "id": "6ad6f4fc7071bff0",
   "metadata": {},
   "source": [
    "4. Implement the `predict` method. The function receives as input a numpy array with N rows and C\n",
    "columns, corresponding to N flowers. The method assigns to each row one of the three Iris species \n",
    "using the KNN algorithm, and returns the predicted species as a numpy array. \n",
    "\n",
    "    - For finding nearest neighbours, you can either re-use the previously defined `k_nearest_neighbors` function or \n",
    "implement a new one exploiting the numpy broadcasting capabilities in order to avoid iterating over the sample matrix `X`.\n",
    "    - Then, assign the *predicted label* to each sample using a majority voting scheme, i.e., the label that appears most frequently among the k nearest neighbors. To do so you can use the `np.unique(neighbours_labels, return_count=True)` function that returns the unique labels and their counts. \n",
    "    - Finally, return the predicted labels as a numpy array."
   ]
  },
  {
   "cell_type": "code",
   "execution_count": 13,
   "id": "c227627e47cc7253",
   "metadata": {
    "ExecuteTime": {
     "end_time": "2024-10-10T13:03:44.621187Z",
     "start_time": "2024-10-10T13:03:44.609767Z"
    }
   },
   "outputs": [],
   "source": []
  },
  {
   "cell_type": "markdown",
   "id": "4cbd1131d3ba785d",
   "metadata": {},
   "source": [
    "5. Now let’s fit the KNN model with the X_train and y_train data. Then, try to use your KNN model\n",
    "to predict the species for each record in X_test and store them in a nupy array called y_pred.\n",
    "As we did in the previous lab, check how many Iris species in the array y_pred have been guessed correctly computing with respect to the ones in y_test computing the accuracy. \n",
    "    - A prediction is correct if `y_pred[i] == y_test[i]`. To get the accuracy then compute the ratio between the number of correct guesses and the total number of guesses is known. \n",
    "    - If all labels are assigned correctly ((y_pred == y_test).all() == True), the accuracy of the model is 100%. \n",
    "    - Instead, if none of the guessed species corresponds to the real one ((y_pred == y_test).any() == False), the accuracy is 0%\n"
   ]
  },
  {
   "cell_type": "code",
   "execution_count": null,
   "id": "ca4f0b4bbe44c9fe",
   "metadata": {},
   "outputs": [],
   "source": []
  },
  {
   "cell_type": "markdown",
   "id": "7514fc82de74b729",
   "metadata": {},
   "source": [
    "6. ($\\star$) As a software developer, you might want to increase the functionalities of your product and\n",
    "publish newer versions over time. The better your code is structured and organized, the lower is the\n",
    "effort to release updates.\n",
    "As such,  extend your KNN implementation adding the parameter `distance`. This has to be one among:\n",
    "    - Euclidean distance: $ euclidean(p,q) = \\sqrt{\\sum_{i=1}^{n} (p_i _- q_i)^2} $\n",
    "    - Manhattan distance: $ manhattan(p,q) = \\sum_{i=1}^n |p_i - q_i|$\n",
    "    - Cosine distance: $ cosine(p, q) = 1 - \\frac{\\sum_{i=1}^n p_i q_i}{ \\sqrt{\\sum^n_{i=1} p^2_i} \\cdot \\sqrt{\\sum^n_{i=1} q_i^2}}$\n",
    "\n",
    "If any of this distance is not already implemented in `numpy` implement it yourself"
   ]
  },
  {
   "cell_type": "code",
   "execution_count": null,
   "id": "436c6395a2f3d853",
   "metadata": {},
   "outputs": [],
   "source": []
  },
  {
   "cell_type": "markdown",
   "id": "24c76d735fe65dbd",
   "metadata": {},
   "source": [
    "\n",
    "7. ($\\star$) Again, extend now your KNN implementation by adding the parameter `weights` to the constructor,\n",
    "as shown below:\n",
    "\n",
    "```\n",
    "class KNearestNeighbors:\n",
    "    def __init__(self, k, distance_metric=\"euclidean\", weights=\"uniform\"):\n",
    "        self.k = k\n",
    "        self.distance_metric = distance_metric\n",
    "        self.weights = weights\n",
    "```\n",
    "\n",
    "Change your KNN implementation to accept a new weighting scheme for the labels. If weights=\n",
    "\"distance\", weight neighbor votes by the inverse of their distance (for the distance, again, use\n",
    "distance_metric). The weight for a neighbor of the point p is:\n",
    "\n",
    "$\n",
    "w(p, n) = \\frac{1}{distance\\_metric(p, n)}\n",
    "$\n",
    "\n",
    "Instead, if the default is chosen (weights=\"uniform\"), use the majority voting you already implemented\n",
    "in Exercise 6.\n",
    "\n",
    "<img src=\"https://mlarchive.com/wp-content/uploads/2022/09/img5.png\">\n"
   ]
  },
  {
   "cell_type": "code",
   "execution_count": null,
   "id": "a84262b9fd13d9f1",
   "metadata": {},
   "outputs": [],
   "source": []
  },
  {
   "cell_type": "markdown",
   "id": "54f1e2a662695741",
   "metadata": {},
   "source": [
    "8. ($\\star$) Test the modularity of the implementation applying it on a different dataset. Ideally, you should\n",
    "not change the code of your KNN python class.\n",
    "- Download the MNIST dataset and retain only 100 samples per digit. You will end up with a dataset of 1000 samples.\n",
    "- Define again four numpy arrays as you did in Exercises 2 and 3.\n",
    "- Apply your KNN as you did for the Iris dataset.\n",
    "- Evaluate the accuracy on MNIST’s y_test."
   ]
  },
  {
   "cell_type": "code",
   "execution_count": 1,
   "id": "b720ef714195eb68",
   "metadata": {},
   "outputs": [
    {
     "name": "stdout",
     "output_type": "stream",
     "text": [
      "Collecting wget\n",
      "  Using cached wget-3.2-py3-none-any.whl\n",
      "Installing collected packages: wget\n",
      "Successfully installed wget-3.2\n"
     ]
    },
    {
     "data": {
      "text/plain": [
       "'mnist.csv'"
      ]
     },
     "execution_count": 1,
     "metadata": {},
     "output_type": "execute_result"
    }
   ],
   "source": [
    "# download MNIST dataset\n",
    "\n",
    "# linux users\n",
    "#! wget https://raw.githubusercontent.com/dbdmg/data-science-lab/master/datasets/mnist_test.csv -O mnist.csv\n",
    "\n",
    "# windows users\n",
    "! pip install wget\n",
    "import wget\n",
    "wget.download(\"https://raw.githubusercontent.com/dbdmg/data-science-lab/master/datasets/mnist_test.csv\", \"mnist.csv\")\n"
   ]
  },
  {
   "cell_type": "code",
   "execution_count": null,
   "id": "77afcee410ef94ac",
   "metadata": {
    "collapsed": false,
    "jupyter": {
     "outputs_hidden": false
    }
   },
   "outputs": [],
   "source": [
    "# extracting MNIST dataset\n",
    "import pandas as pd\n",
    "from sklearn.model_selection import train_test_split\n",
    "\n",
    "dataset_mnist=pd.read_csv(\"../mnist.csv\")\n",
    "dataset_mnist_y = dataset_mnist[\"7\"]\n",
    "dataset_mnist_x = dataset_mnist.iloc[:,1:]\n",
    "\n",
    "x_train, x_test, Y_train, Y_test = train_test_split(dataset_mnist_x, dataset_mnist_y, test_size=0.2, random_state=42)\n",
    "\n",
    "print(\"X_train shape:\", x_train.shape)\n",
    "print(\"X_test shape:\", x_test.shape)\n",
    "print(\"y_train shape:\", Y_train.shape)\n",
    "print(\"y_test shape:\", Y_test.shape)"
   ]
  },
  {
   "cell_type": "code",
   "execution_count": 32,
   "id": "d1a0834dd8885a2b",
   "metadata": {
    "collapsed": false,
    "jupyter": {
     "outputs_hidden": false
    }
   },
   "outputs": [
    {
     "name": "stdout",
     "output_type": "stream",
     "text": [
      "{5344: 4, 7444: 7, 1731: 9, 8719: 1, 4521: 7, 7453: 5, 576: 3, 7428: 4, 5577: 8, 439: 0, 2750: 6, 5730: 0, 5271: 2, 5652: 0, 3999: 4, 4556: 6, 582: 7, 6289: 3, 7050: 6, 4894: 8, 8697: 7, 2249: 9, 4639: 8, 7191: 2, 5872: 1, 6330: 3, 1963: 9, 8242: 0, 6589: 0, 8846: 5, 321: 9, 2678: 2, 6630: 8, 9885: 6, 9285: 8, 3337: 9, 5459: 1, 251: 9, 3973: 1, 7281: 3, 6773: 6, 35: 7, 8361: 3, 1513: 2, 8579: 6, 39: 1, 4755: 8, 3465: 8, 1760: 5, 2304: 3, 3723: 0, 5538: 6, 4992: 7, 8126: 0, 3032: 6, 7937: 5, 3039: 7, 6824: 7, 2545: 5, 2592: 0, 1188: 1, 5365: 2, 6076: 5, 107: 9, 1315: 1, 4751: 9, 2753: 6, 9752: 0, 8852: 5, 2876: 4, 7073: 2, 799: 8, 3570: 4, 2894: 8, 2927: 1, 7445: 0, 971: 0, 8344: 2, 8574: 1, 2020: 5, 9053: 7, 952: 4, 5358: 3, 3857: 1, 5860: 7, 3145: 3, 3305: 0, 3006: 5, 7436: 5, 8876: 8, 8608: 8, 7379: 9, 9237: 3, 1056: 4, 3154: 4, 3787: 5, 5400: 6, 6452: 3, 7538: 2, 8761: 9, 764: 4, 5018: 3, 4902: 1, 6720: 2, 6842: 0, 2165: 1, 1862: 2, 9974: 3, 8881: 9, 2340: 9, 7712: 8, 5441: 1, 4003: 3, 1123: 8, 5428: 9, 4049: 1, 9579: 9, 765: 5, 2344: 9, 4071: 5, 5076: 7, 4216: 4, 7377: 8, 5969: 1, 3350: 1, 4694: 4, 3399: 7, 4081: 0, 6987: 9, 1224: 8, 6291: 7, 3122: 4, 510: 4, 6429: 1, 8180: 9, 5028: 9, 96: 7, 4789: 6, 1512: 3, 8043: 9, 119: 5, 9043: 7, 6516: 3, 33: 7, 6245: 2, 9683: 7, 8979: 1, 1068: 3, 1347: 2, 6045: 3, 6004: 1, 9142: 1, 3817: 0, 9748: 5, 5268: 9, 6896: 8, 5308: 3, 31: 3, 6699: 1, 4386: 2, 29: 3, 4202: 6, 7506: 1, 735: 4, 2067: 9, 106: 1, 9357: 0, 8893: 8, 8068: 2, 2232: 8, 993: 1, 9411: 4, 7331: 4, 6582: 0, 360: 6, 304: 0, 2627: 7, 8964: 8, 4513: 4, 5909: 5, 7116: 3, 3100: 7, 5702: 3, 3898: 2, 7828: 3, 4797: 6, 621: 4, 7234: 2, 2498: 4, 713: 8, 8402: 7, 2855: 8, 4269: 3, 2908: 5, 4934: 0, 4516: 2, 1261: 2, 3160: 7, 970: 4, 3912: 2, 5197: 8, 8845: 9, 259: 8, 3790: 9, 9767: 0, 487: 9, 8689: 9, 518: 4, 7847: 2, 311: 0, 3231: 4, 4794: 9, 7456: 2, 9782: 4, 4626: 6, 8075: 9, 8077: 1, 6789: 3, 4582: 5, 2737: 6, 8625: 4, 6260: 6, 7794: 9, 1247: 8, 7244: 2, 4194: 1, 7999: 4, 7376: 9, 3434: 2, 7834: 0, 958: 4, 416: 9, 9925: 8, 6726: 3, 4381: 9, 7582: 5, 1112: 5, 2688: 1, 8309: 2, 9564: 4, 9949: 1, 3410: 9, 80: 6, 8362: 4, 1373: 2, 1509: 5, 7515: 0, 3070: 2, 3015: 0, 9636: 7, 7820: 3, 92: 3, 9392: 7, 8048: 5, 4442: 3, 7600: 0, 3834: 6, 9700: 9, 4321: 7, 3393: 9, 4750: 4, 8248: 8, 9189: 1, 2360: 9, 1147: 0, 5664: 6, 6975: 1, 7769: 8, 3662: 5, 1562: 7, 4112: 2, 9048: 1, 6253: 1, 8536: 9, 794: 3, 5852: 6, 7084: 4, 1593: 9, 7416: 8, 5265: 2, 4645: 1, 88: 1, 7656: 4, 8611: 2, 9444: 3, 6752: 0, 3501: 8, 2233: 7, 2802: 1, 4423: 9, 8160: 2, 8185: 3, 7342: 6, 2147: 4, 6597: 6, 8161: 3, 9600: 0, 5950: 9, 1494: 3, 6250: 4, 7092: 2, 1408: 7, 6689: 3, 3400: 0, 108: 4, 7793: 2, 8480: 0, 9947: 0, 1090: 7, 4716: 1, 9738: 0, 8141: 5, 9398: 7, 4975: 4, 623: 2, 8621: 6, 4812: 4, 6551: 4, 7528: 3, 5794: 7, 7435: 3, 4217: 8, 6204: 4, 5382: 6, 5740: 4, 6825: 8, 4130: 5, 8166: 3, 6264: 4, 4720: 4, 1650: 8, 4140: 8, 1617: 5, 2029: 5, 6492: 8, 4574: 9, 3992: 7, 5998: 7, 6148: 7, 4762: 5, 7235: 9, 8259: 0, 4730: 8, 7547: 6, 4929: 1, 1606: 3, 4772: 7, 8108: 9, 6393: 9, 6003: 8, 7727: 1, 3541: 4, 388: 9, 1794: 2, 8730: 0, 4918: 9, 7203: 7, 3872: 8, 6135: 5, 2254: 3, 3412: 0, 5458: 0, 6897: 8, 7845: 0, 4779: 0, 7398: 1, 7787: 8, 5663: 4, 4850: 6, 2025: 6, 2615: 5, 7387: 5, 2926: 2, 1121: 7, 2910: 8, 5781: 4, 7429: 5, 3482: 9, 795: 2, 1575: 7, 6175: 4, 7752: 6, 2458: 2, 3312: 8, 1253: 1, 9556: 8, 5386: 8, 3837: 1, 4398: 8, 3595: 4, 6620: 0, 5369: 1, 2124: 9, 3238: 2, 5402: 8, 7352: 1, 5937: 6, 2045: 4, 1578: 6, 14: 5, 2673: 1, 4914: 5, 8055: 0, 6562: 3, 8604: 6, 1084: 6, 4982: 3, 9334: 1, 2884: 1, 333: 3, 7977: 7, 4367: 5, 3079: 3, 7202: 0, 9908: 7, 7642: 3, 263: 4, 4337: 5, 8894: 0, 8286: 6, 5902: 7, 1498: 8, 4190: 1, 6065: 4, 5918: 9, 7407: 4, 7589: 3, 500: 9, 6282: 6, 9413: 0, 3095: 4, 4630: 0, 367: 6, 4058: 5, 6848: 2, 4629: 3, 6069: 8, 2664: 7, 1026: 1, 8629: 5, 5049: 9, 6504: 0, 9732: 7, 1691: 0, 673: 3, 6427: 0, 5632: 5, 5046: 4, 733: 3, 3526: 3, 568: 3, 9186: 8, 2922: 9, 7910: 1, 1558: 0, 101: 5, 3007: 9, 7200: 4, 303: 4, 76: 2, 6753: 2, 8628: 0, 1208: 6, 9524: 4, 8612: 4, 9113: 5, 9649: 7, 1775: 7, 3473: 2, 483: 4, 2189: 0, 346: 5, 6989: 9, 7557: 0, 1472: 5, 6691: 9, 8221: 4, 6010: 3, 5202: 1, 6746: 9, 2609: 2, 3: 4, 2213: 5, 4826: 4, 856: 5, 6462: 6, 5884: 5, 624: 6, 290: 2, 2018: 9, 668: 3, 8920: 0, 8263: 4, 9695: 2, 1631: 6, 5169: 5, 7204: 2, 2522: 7, 2215: 9, 6967: 0, 4726: 3, 8841: 3, 8119: 3, 8991: 0, 1107: 6, 450: 3, 5403: 9, 5617: 5, 135: 0, 1785: 4, 3404: 4, 2906: 4, 8303: 7, 8616: 7, 7762: 3, 4504: 9, 9553: 9, 5204: 7, 4080: 6, 8749: 9, 5159: 5, 5205: 5, 532: 4, 4829: 5, 4038: 1, 4084: 1, 3204: 8, 7109: 6, 330: 2, 6072: 1, 3033: 9, 4957: 0, 1597: 5, 5112: 1, 3597: 1, 4963: 2, 9401: 8, 590: 3, 647: 3, 6784: 2, 7954: 2, 3771: 2, 9038: 1, 5081: 4, 7881: 0, 6658: 8, 4210: 6, 8833: 5, 4860: 7, 1795: 0, 2586: 3, 8354: 4, 2316: 7, 4185: 0, 9778: 0, 8916: 4, 8665: 1, 8435: 9, 6779: 4, 4767: 4, 5965: 6, 7143: 7, 2913: 3, 9158: 5, 9892: 8, 2075: 3, 4302: 1, 5257: 1, 2149: 6, 144: 1, 6969: 0, 8158: 1, 9029: 1, 8973: 7, 9607: 7, 7748: 2, 9827: 3, 9213: 9, 8314: 2, 8595: 9, 6408: 9, 3317: 2, 5674: 8, 3061: 6, 1355: 8, 4514: 0, 5504: 0, 8201: 7, 4511: 6, 1730: 3, 1758: 8, 6649: 9, 8961: 9, 9859: 3, 4139: 2, 9587: 5, 9225: 6, 0: 2, 1864: 9, 543: 4, 349: 1, 9568: 2, 9764: 7, 2523: 1, 3464: 4, 457: 8, 3023: 4, 6025: 7, 7074: 3, 6723: 7, 8603: 1, 2534: 6, 131: 5, 3704: 8, 1372: 6, 6199: 9, 9081: 2, 8144: 8, 6968: 1, 1413: 9, 4113: 2, 655: 0, 7111: 0, 4098: 7, 592: 9, 8707: 1, 3123: 1, 3047: 2, 3887: 9, 5982: 2, 2184: 0, 2145: 8, 7046: 4, 3105: 2, 6515: 4, 9095: 1, 2769: 2, 7507: 2, 6395: 4, 1732: 6, 265: 8, 5143: 9, 7094: 9, 3937: 4, 761: 4, 7219: 8, 8438: 1, 3257: 2, 4338: 2, 4362: 9, 316: 5, 6523: 9, 1851: 6, 2484: 0, 9872: 4, 9573: 8, 1078: 6, 7704: 6, 9608: 8, 1071: 3, 103: 9, 8304: 1, 1418: 4, 1658: 1, 7261: 1, 1149: 3, 7149: 1, 1568: 4, 1087: 9, 6084: 3, 8673: 3, 8785: 7, 7810: 1, 6083: 2, 8772: 4, 8229: 9, 1692: 5, 5518: 0, 3387: 4, 3646: 7, 1683: 5, 8: 9, 6061: 0, 6193: 3, 4123: 8, 8728: 1, 7911: 7, 567: 6, 9160: 8, 1803: 3, 8500: 0, 4899: 7, 1599: 3, 7930: 9, 9546: 2, 2823: 0, 5221: 5, 3529: 4, 8682: 2, 1155: 7, 5667: 5, 5924: 3, 8092: 9, 9843: 1, 4540: 3, 9133: 0, 6481: 1, 5825: 6, 1190: 0, 7443: 8, 8008: 8, 960: 8, 6338: 7, 36: 1, 9050: 1, 8863: 3, 4438: 6, 8327: 3, 7743: 7, 9586: 9, 7267: 7, 6500: 3, 7061: 0, 577: 7, 9832: 6, 4102: 2, 9527: 0, 4151: 1, 3130: 3, 4889: 6, 8341: 0, 7470: 9, 1833: 1, 9147: 6, 4890: 0, 2287: 3, 1330: 5, 2771: 5, 3686: 9, 6786: 9, 6995: 9, 637: 5, 47: 4, 2602: 9, 1965: 7, 2168: 4, 5048: 8, 3334: 5, 3019: 0, 4740: 0, 9175: 5, 1360: 7, 8784: 3, 9399: 5, 3251: 6, 7207: 7, 2251: 7, 7260: 0, 1175: 0, 5603: 1, 3279: 2, 2973: 1, 3396: 4, 9351: 0, 965: 9, 8573: 8, 742: 6, 6051: 2, 3314: 0, 5662: 7, 7189: 0, 4671: 0, 8617: 8, 1217: 0, 4397: 8, 6079: 8, 2614: 4, 2620: 2, 5317: 1, 5866: 3, 3379: 1, 5003: 4, 4989: 1, 4593: 2, 9812: 4, 6715: 5, 8590: 7, 6849: 8, 1516: 0, 5493: 2, 7635: 1, 5566: 0, 6920: 0, 2392: 3, 586: 6, 3519: 4, 7652: 4, 5953: 2, 850: 0, 335: 9, 5700: 8, 8913: 1, 5300: 0, 2868: 8, 4871: 1, 3550: 4, 3842: 1, 5642: 2, 6925: 6, 23: 4, 1453: 0, 1684: 6, 2310: 2, 9882: 8, 9405: 4, 381: 3, 5813: 3, 5549: 1, 4672: 9, 1618: 0, 789: 1, 5733: 7, 8671: 1, 4475: 2, 5605: 3, 9311: 6, 9246: 6, 6215: 5, 2286: 1, 9992: 0, 9108: 5, 1183: 1, 6000: 8, 5228: 5, 2516: 2, 4122: 8, 5956: 5, 7118: 3, 6088: 7, 7550: 3, 4568: 5, 7726: 0, 5967: 9, 1180: 1, 8204: 4, 8302: 1, 2818: 4, 9963: 0, 9346: 4, 6607: 9, 2820: 0, 8097: 0, 2260: 1, 2239: 7, 6055: 8, 782: 1, 932: 3, 6201: 1, 2412: 5, 9308: 2, 6412: 3, 1156: 4, 8122: 6, 5804: 9, 7572: 7, 3309: 0, 5082: 5, 1702: 7, 2492: 9, 3706: 8, 9959: 4, 286: 4, 1608: 2, 9154: 1, 7051: 0, 5767: 6, 2252: 2, 7414: 6, 6811: 4, 1891: 0, 7391: 7, 6119: 5, 563: 0, 291: 9, 4715: 2, 7707: 1, 5922: 4, 169: 4, 267: 8, 5431: 5, 5942: 1, 3355: 7, 8278: 4, 315: 6, 4635: 2, 9494: 7, 4067: 3, 245: 0, 252: 5, 1111: 6, 4800: 2, 1713: 9, 50: 3, 1835: 1, 7895: 1, 3383: 6, 7021: 2, 4313: 7, 872: 2, 1254: 9, 4950: 1, 7666: 6, 9361: 9, 8102: 6, 2098: 8, 6855: 7, 248: 2, 6560: 7, 1339: 5, 7016: 6, 2110: 8, 1569: 0, 1726: 3, 8383: 8, 6110: 2, 4395: 4, 2420: 1, 3045: 8, 5502: 9, 3703: 8, 8735: 7, 9265: 2, 9807: 9, 447: 8, 7893: 2, 8793: 2, 7541: 5, 1768: 3, 8251: 1, 8456: 9, 3869: 0, 1655: 2, 3187: 4, 683: 1, 4170: 1, 4477: 8, 461: 6, 5763: 3, 6899: 6, 4502: 2, 7682: 2, 318: 5, 1145: 5, 6958: 0, 1393: 8, 6622: 1, 1501: 8, 6407: 1, 376: 1, 410: 7, 1660: 3, 3151: 1, 1623: 7, 5608: 6, 8531: 2, 6389: 5, 4932: 5, 8791: 6, 8896: 9, 8145: 9, 9614: 4, 7672: 5, 1672: 1, 2358: 1, 8466: 9, 274: 4, 2473: 7, 5627: 3, 4770: 5, 2107: 2, 7499: 8, 4414: 2, 6903: 8, 8025: 3, 8789: 4, 2417: 1, 8770: 6, 2236: 5, 3767: 0, 9790: 0, 9988: 6, 9964: 3, 5556: 2, 1383: 3, 3101: 5, 3921: 1, 7720: 6, 3194: 2, 1941: 4, 7113: 8, 8157: 5, 6209: 9, 1496: 7, 1957: 4, 9170: 1, 9744: 4, 8016: 9, 7948: 6, 3017: 6, 6902: 9, 513: 6, 3934: 6, 3025: 1, 1199: 3, 5027: 3, 9783: 9, 921: 2, 6934: 8, 5331: 6, 1076: 4, 9733: 7, 9453: 6, 1671: 5, 474: 4, 9185: 7, 9371: 5, 8370: 9, 8507: 3, 2478: 0, 5492: 8, 3914: 4, 2138: 3, 5453: 3, 5378: 8, 7289: 1, 4023: 4, 3485: 3, 2455: 9, 2464: 6, 8695: 5, 1369: 5, 6687: 1, 9674: 5, 9973: 4, 1901: 5, 4870: 1, 4923: 1, 7885: 2, 1793: 0, 2874: 9, 6216: 2, 5212: 6, 2245: 8, 1741: 3, 1020: 7, 705: 9, 4294: 7, 8391: 4, 5062: 4, 8176: 6, 908: 7, 5192: 1, 3077: 1, 9365: 6, 594: 3, 5303: 6, 440: 0, 7605: 7, 4092: 9, 7320: 2, 10: 6, 3776: 1, 8998: 0, 3708: 9, 3780: 8, 93: 1, 9238: 0, 3949: 9, 7772: 2, 7323: 5, 4801: 3, 4866: 5, 292: 2, 7887: 5, 9592: 1, 5594: 2, 2886: 7, 5559: 7, 2542: 8, 1765: 1, 9616: 6, 1877: 3, 1981: 6, 9728: 6, 8931: 8, 2685: 5, 8355: 7, 3458: 9, 4541: 0, 2178: 8, 4450: 2, 3859: 5, 8236: 6, 7653: 7, 4519: 5, 2517: 5, 7573: 1, 2885: 4, 9824: 9, 9976: 4, 4539: 7, 5638: 9, 5292: 3, 3481: 2, 1277: 3, 3146: 9, 8261: 2, 3205: 3, 8153: 3, 2742: 1, 7367: 0, 4047: 0, 7015: 8, 2945: 1, 6486: 9, 7020: 7, 8295: 3, 700: 0, 3574: 7, 7698: 0, 2515: 9, 3000: 9, 5819: 2, 9316: 6, 3684: 4, 2995: 0, 4252: 8, 3411: 0, 7492: 7, 6308: 0, 9530: 6, 5011: 6, 7749: 3, 9560: 3, 4048: 7, 4898: 2, 1318: 3, 6615: 2, 8511: 7, 7076: 5, 1897: 0, 7464: 0, 603: 5, 2846: 4, 9101: 4, 393: 9, 4436: 3, 7493: 4, 8282: 0, 5397: 0, 95: 1, 1662: 8, 8969: 3, 5129: 9, 1488: 3, 8315: 7, 2707: 4, 1595: 9, 9276: 5, 2377: 0, 6637: 5, 7880: 1, 8240: 8, 3948: 8, 3933: 8, 5862: 2, 4372: 4, 9861: 6, 8241: 8, 3448: 3, 2943: 0, 2465: 6, 6351: 2, 5505: 1, 2698: 1, 2447: 9, 19: 9, 2748: 7, 5398: 1, 5407: 3, 6870: 7, 4707: 1, 5304: 0, 809: 7, 5857: 7, 2273: 9, 1923: 4, 1470: 5, 7933: 1, 8114: 3, 2406: 7, 1142: 7, 1747: 0, 5708: 7, 4974: 9, 7299: 7, 8821: 4, 2833: 8, 3131: 1, 1310: 4, 8649: 1, 5545: 9, 6755: 7, 620: 8, 2701: 6, 2199: 6, 6195: 5, 8823: 6, 1046: 0, 4872: 3, 9946: 4, 9018: 7, 743: 2, 222: 7, 3149: 3, 625: 7, 6599: 5, 7565: 0, 5090: 1, 5710: 5, 3284: 3, 7584: 6, 6001: 6, 1530: 3, 9684: 5, 353: 1, 2474: 2, 8012: 6, 6474: 4, 6448: 7, 239: 5, 2625: 1, 8337: 0, 6449: 8, 4562: 1, 2997: 9, 8067: 1, 4561: 2, 8613: 0, 1479: 3, 1018: 1, 3094: 5, 6181: 1, 6627: 1, 8491: 2, 1103: 7, 6080: 9, 7163: 8, 7639: 9, 4181: 9, 4467: 4, 1626: 9, 8565: 8, 3798: 7, 3053: 7, 2867: 1, 1432: 1, 8806: 9, 9345: 2, 9418: 7, 4076: 1, 217: 5, 3555: 5, 8084: 0, 8420: 7, 1034: 6, 3773: 0, 4132: 2, 2335: 4, 6491: 8, 1482: 1, 906: 1, 6087: 6, 6508: 6, 7463: 9, 2770: 4, 1805: 7, 5137: 8, 2114: 7, 4534: 3, 2531: 1, 5790: 0, 3470: 1, 1402: 1, 852: 7, 3082: 3, 8023: 6, 8751: 0, 5695: 4, 7853: 9, 6686: 4, 6129: 6, 9290: 1, 3846: 0, 5171: 7, 747: 4, 3034: 2, 347: 1, 3351: 7, 2864: 3, 2167: 2, 6953: 7, 7947: 5, 2777: 4, 1441: 3, 9496: 9, 8715: 3, 3027: 5, 7938: 6, 2483: 7, 2882: 9, 6453: 0, 763: 2, 6480: 3, 1616: 3, 1222: 0, 8663: 4, 8599: 1, 1576: 6, 9390: 5, 6349: 6, 3782: 9, 4374: 8, 708: 8, 509: 7, 2954: 3, 7536: 0, 6568: 1, 8921: 1, 8412: 8, 7161: 0, 4682: 9, 6827: 2, 3615: 7, 5741: 5, 6974: 3, 4350: 0, 711: 4, 8444: 5, 9128: 2, 8203: 4, 4631: 2, 712: 0, 9172: 8, 1245: 0, 9784: 9, 6847: 1, 9065: 6, 715: 1, 3463: 1, 4394: 6, 4880: 7, 8802: 5, 7293: 5, 7700: 7, 212: 3, 6666: 6, 6837: 8, 1010: 1, 323: 0, 5395: 6, 9341: 3, 3172: 6, 334: 3, 7632: 8, 2210: 8, 4271: 9, 6739: 0, 233: 7, 9605: 5, 5736: 0, 5682: 9, 2348: 8, 2036: 5, 7068: 7, 6005: 7, 4553: 0, 6478: 6, 1458: 2, 3288: 8, 3064: 1, 9580: 3, 774: 2, 8880: 0, 871: 8, 8748: 7, 1263: 4, 4832: 3, 3894: 0, 6322: 4, 8151: 0, 7018: 1, 1220: 5, 1446: 6, 3184: 0, 408: 1, 4344: 2, 3021: 5, 2303: 0, 6270: 4, 8279: 4, 9718: 0, 6954: 8, 2109: 2, 5350: 5, 9682: 4, 4936: 0, 4549: 9, 1880: 9, 5944: 3, 1737: 3, 5606: 4, 5211: 3, 3208: 6, 7081: 7, 2055: 8, 1688: 2, 8460: 3, 7474: 5, 7875: 2, 8513: 0, 9047: 2, 8121: 5, 8957: 8, 4759: 7, 8538: 5, 3392: 5, 6324: 6, 3528: 9, 6060: 3, 9713: 0, 8990: 0, 745: 7, 710: 5, 379: 0, 8781: 9, 3011: 8, 8857: 0, 8288: 1, 6572: 5, 3497: 7, 3889: 5, 4484: 7, 4011: 4, 2619: 6, 6669: 1, 5775: 1, 3467: 5, 1313: 4, 9577: 2, 2069: 7, 2982: 9, 5095: 4, 7488: 9, 1285: 8, 9362: 3, 8891: 1, 1349: 1, 2611: 1, 9493: 6, 3668: 1, 2221: 3, 427: 4, 653: 5, 8005: 9, 3535: 0, 7735: 9, 3245: 8, 5399: 5, 6027: 5, 4099: 2, 4100: 9, 5092: 1, 611: 2, 4288: 7, 8569: 3, 7993: 2, 1543: 7, 8807: 0, 3853: 7, 554: 4, 6364: 3, 511: 2, 3206: 1, 8083: 9, 967: 4, 8027: 9, 6878: 5, 6774: 5, 3295: 7, 8700: 3, 3429: 1, 8869: 2, 5807: 7, 2088: 9, 8498: 6, 6161: 1, 3210: 1, 6167: 9, 6604: 6, 1109: 7, 5727: 7, 9889: 9, 1038: 1, 1194: 0, 4474: 4, 7981: 4, 2122: 7, 6512: 2, 8972: 2, 9350: 2, 934: 5, 6100: 1, 7403: 6, 394: 5, 4684: 1, 7768: 9, 9164: 9, 5979: 0, 9941: 3, 2191: 5, 1297: 3, 8098: 1, 1162: 4, 4254: 3, 6292: 0, 1527: 1, 4342: 0, 2030: 3, 3060: 7, 58: 5, 2405: 9, 8927: 9, 6101: 4, 7374: 7, 4506: 1, 5213: 3, 9067: 8, 1780: 9, 5446: 9, 7962: 8, 6913: 9, 676: 3, 3582: 8, 3653: 5, 4718: 1, 9498: 1, 2732: 0, 4786: 6, 2754: 9, 2337: 4, 3643: 8, 6380: 3, 5515: 3, 5245: 7, 866: 2, 4447: 0, 5030: 0, 8910: 7, 9509: 2, 3002: 1, 2225: 0, 9055: 3, 4825: 4, 7620: 4, 9688: 1, 7952: 0, 9699: 1, 9538: 9, 5501: 2, 1210: 1, 7301: 8, 2288: 8, 2183: 2, 2862: 9, 6860: 4, 2362: 4, 8462: 5, 4722: 7, 4064: 6, 7722: 0, 617: 5, 3281: 9, 5225: 8, 3397: 6, 3065: 4, 766: 1, 7077: 6, 5278: 9, 4149: 0, 1144: 4, 4248: 1, 4110: 9, 462: 6, 2932: 6, 4622: 7, 3813: 5, 6307: 1, 4341: 2, 8132: 6, 5274: 5, 3282: 3, 2574: 3, 7960: 8, 7087: 7, 828: 4, 6485: 5, 7598: 0, 2540: 1, 8060: 4, 8525: 1, 9539: 1, 3742: 7, 7497: 5, 3524: 7, 20: 6, 1915: 6, 8300: 8, 4661: 9, 2012: 1, 8283: 7, 1295: 6, 3745: 3, 591: 0, 1406: 2, 221: 2, 5616: 1, 6247: 8, 4418: 8, 858: 7, 1783: 7, 7258: 7, 4657: 7, 1954: 8, 1746: 5, 3132: 4, 8035: 2, 9998: 6, 994: 2, 6107: 1, 730: 2, 6973: 4, 5821: 4, 6750: 1, 3509: 2, 3533: 4, 2513: 4, 4993: 7, 3625: 8, 465: 8, 5743: 8, 6758: 4, 7990: 9, 157: 3, 3960: 6, 7532: 7, 5125: 4, 185: 2, 1002: 5, 9507: 0, 9181: 3, 400: 8, 6239: 2, 7217: 4, 6800: 3, 7341: 0, 9831: 2, 9588: 6, 7533: 8, 6547: 5, 1250: 2, 3143: 6, 6163: 7, 59: 7, 7854: 0, 1113: 3, 3057: 6, 5698: 1, 1328: 1, 4575: 4, 6681: 9, 2072: 0, 4792: 7, 6828: 1, 9628: 8, 5471: 3, 7566: 1, 5921: 3, 1550: 1, 1009: 4, 3755: 5, 9169: 9, 9522: 5, 5217: 6, 3860: 9, 3148: 9, 2519: 8, 3127: 2, 5849: 3, 9625: 5, 1195: 6, 9049: 6, 879: 7, 9148: 6, 2487: 9, 2840: 7, 4329: 5, 2930: 3, 6423: 0, 2485: 6, 5746: 3, 883: 0, 4913: 6, 4768: 9, 7929: 2, 211: 9, 2275: 1, 2328: 0, 4949: 3, 3319: 1, 9833: 8, 4606: 6, 1438: 9, 467: 7, 5465: 7, 3329: 2, 7871: 8, 8606: 3, 696: 4, 6464: 3, 9143: 9, 7708: 6, 6872: 3, 1314: 3, 2301: 1, 2039: 5, 7107: 5, 3666: 7, 914: 8, 12: 0, 8582: 4, 6426: 4, 1536: 6, 736: 6, 5290: 1, 8651: 5, 453: 9, 4345: 6, 927: 9, 6742: 1, 8280: 6, 8721: 8, 6472: 0, 37: 2, 5769: 6, 2554: 3, 7631: 7, 9997: 5, 9427: 5, 940: 7, 5799: 9, 6127: 6, 6584: 4, 2680: 3, 4354: 5, 3058: 7, 7879: 6, 738: 5, 538: 2, 3325: 3, 4239: 9, 1400: 7, 4046: 9, 8809: 2, 4229: 4, 4191: 4, 9141: 9, 5537: 3, 2692: 1, 5339: 2, 8147: 6, 7669: 6, 6018: 4, 1807: 0, 7277: 9, 3989: 1, 3455: 3, 2907: 9, 6650: 5, 9849: 0, 6243: 5, 2697: 5, 4016: 4, 4339: 5, 8470: 3, 7738: 2, 7104: 6, 9297: 5, 1739: 5, 5405: 1, 4587: 1, 3125: 1, 2157: 2, 5332: 9, 8635: 1, 1825: 0, 4230: 8, 3487: 6, 9052: 6, 8026: 8, 3647: 1, 8074: 8, 6384: 5, 6182: 2, 6422: 2, 7825: 5, 7742: 6, 3012: 0, 7670: 0, 9547: 3, 9428: 3, 3080: 2, 3520: 8, 4977: 7, 7618: 0, 4347: 0, 8439: 8, 1346: 7, 7086: 1, 8946: 4, 5650: 1, 8080: 4, 1791: 7, 9710: 7, 9578: 3, 8679: 9, 2270: 8, 9566: 7, 2955: 5, 3443: 4, 5522: 9, 833: 6, 6497: 6, 2991: 3, 7791: 6, 2150: 3, 4022: 0, 5035: 1, 8834: 5, 3338: 2, 4343: 2, 4463: 6, 2375: 0, 9042: 2, 7222: 1, 8597: 3, 6916: 1, 7257: 6, 1886: 7, 1197: 9, 6425: 0, 8909: 3, 2935: 4, 6340: 5, 1429: 1, 8951: 9, 3649: 0, 1937: 6, 5170: 6, 6098: 0, 6391: 5, 1153: 0, 4803: 0, 7739: 3, 4228: 4, 9742: 7, 6399: 0, 3639: 0, 3971: 6, 4687: 3, 3375: 9, 2486: 5, 4649: 0, 605: 3, 6463: 8, 5229: 6, 2453: 6, 3608: 7, 1483: 1, 4518: 4, 3037: 7, 4783: 7, 7690: 8, 4115: 5, 1426: 4, 496: 9, 3352: 1, 9958: 8, 758: 9, 837: 4, 4326: 0, 2127: 3, 1022: 4, 8760: 5, 7545: 6, 5579: 9, 1057: 9, 8518: 7, 6854: 7, 7347: 2, 7789: 1, 2128: 2, 2766: 3, 2108: 4, 3616: 6, 1544: 9, 8381: 0, 1718: 8, 8265: 8, 7363: 2, 9152: 9, 724: 1, 6671: 0, 5792: 6, 8854: 5, 1127: 3, 2956: 5, 7049: 6, 8256: 7, 6200: 0, 7412: 4, 8750: 9, 8136: 0, 5273: 4, 6153: 8, 3043: 0, 7799: 3, 149: 9, 7432: 8, 4205: 2, 5491: 3, 2689: 3, 4220: 4, 5983: 1, 841: 7, 9085: 6, 6803: 6, 9698: 1, 8709: 5, 2794: 6, 6220: 9, 8473: 6, 7888: 0, 5805: 0, 8570: 5, 8094: 4, 1392: 3, 1921: 1, 5326: 1, 3621: 6, 4847: 2, 2291: 9, 2133: 5, 550: 1, 1740: 1, 5288: 9, 1817: 6, 9215: 9, 5180: 3, 3018: 1, 17: 3, 1770: 2, 1888: 3, 2152: 3, 1642: 1, 7915: 1, 4193: 9, 4747: 8, 4830: 6, 533: 6, 132: 7, 4864: 7, 8457: 0, 964: 0, 9210: 9, 9448: 8, 8284: 7, 7852: 8, 1095: 9, 8871: 8}\n"
     ]
    }
   ],
   "source": [
    "# define four numpy arrays x_train, y_train, x_test, y_test\n",
    "KNN = KNearestNeighbors(5)\n",
    "\n",
    "KNN.fit(x_train,Y_train)\n",
    "\n",
    "classi = KNN.predict(x_test)\n",
    "\n",
    "print(classi)"
   ]
  },
  {
   "cell_type": "code",
   "execution_count": null,
   "id": "c03d2add840c1531",
   "metadata": {
    "collapsed": false,
    "jupyter": {
     "outputs_hidden": false
    }
   },
   "outputs": [],
   "source": [
    "# Apply KNN on MNIST\n"
   ]
  }
 ],
 "metadata": {
  "kernelspec": {
   "display_name": "Python 3 (ipykernel)",
   "language": "python",
   "name": "python3"
  },
  "language_info": {
   "codemirror_mode": {
    "name": "ipython",
    "version": 3
   },
   "file_extension": ".py",
   "mimetype": "text/x-python",
   "name": "python",
   "nbconvert_exporter": "python",
   "pygments_lexer": "ipython3",
   "version": "3.7.12"
  }
 },
 "nbformat": 4,
 "nbformat_minor": 5
}
